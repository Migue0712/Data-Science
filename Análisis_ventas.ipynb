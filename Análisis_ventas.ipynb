{
 "cells": [
  {
   "cell_type": "code",
   "execution_count": 1,
   "metadata": {},
   "outputs": [],
   "source": [
    "import pandas as pd\n",
    "import numpy as np"
   ]
  },
  {
   "cell_type": "code",
   "execution_count": 3,
   "metadata": {},
   "outputs": [],
   "source": [
    "#variable definiendo la ruta del archivo\n",
    "\n",
    "ruta_archivo = \"C:\\\\Users\\\\migue\\\\OneDrive\\\\Escritorio\\\\online_sales_data.csv\""
   ]
  },
  {
   "cell_type": "code",
   "execution_count": 5,
   "metadata": {},
   "outputs": [
    {
     "name": "stdout",
     "output_type": "stream",
     "text": [
      "   Order ID    Product  Quantity  Unit Price     Category   Sale Date  \\\n",
      "0      1000  Audífonos         3     1323.42   Accesorios  2024-01-01   \n",
      "1      1001    Monitor         2     1147.65   Accesorios  2024-01-01   \n",
      "2      1002    Teclado         3      118.00   Accesorios  2024-01-01   \n",
      "3      1003  Audífonos         4      439.58   Accesorios  2024-01-02   \n",
      "4      1004     Tablet         1       82.17  Electrónica  2024-01-02   \n",
      "\n",
      "   Total Sales  \n",
      "0      3970.26  \n",
      "1      2295.30  \n",
      "2       354.00  \n",
      "3      1758.32  \n",
      "4        82.17  \n",
      "          Order ID   Quantity   Unit Price  Total Sales\n",
      "count   500.000000  500.00000   500.000000   500.000000\n",
      "mean   1249.500000    2.39600   804.706700  1939.853300\n",
      "std     144.481833    1.16529   400.683043  1439.788409\n",
      "min    1000.000000    1.00000    53.390000    82.170000\n",
      "25%    1124.750000    1.00000   505.537500   784.705000\n",
      "50%    1249.500000    2.00000   827.070000  1479.090000\n",
      "75%    1374.250000    3.00000  1138.917500  2889.930000\n",
      "max    1499.000000    4.00000  1499.060000  5984.080000\n",
      "<class 'pandas.core.frame.DataFrame'>\n",
      "RangeIndex: 500 entries, 0 to 499\n",
      "Data columns (total 7 columns):\n",
      " #   Column       Non-Null Count  Dtype  \n",
      "---  ------       --------------  -----  \n",
      " 0   Order ID     500 non-null    int64  \n",
      " 1   Product      500 non-null    object \n",
      " 2   Quantity     500 non-null    int64  \n",
      " 3   Unit Price   500 non-null    float64\n",
      " 4   Category     500 non-null    object \n",
      " 5   Sale Date    500 non-null    object \n",
      " 6   Total Sales  500 non-null    float64\n",
      "dtypes: float64(2), int64(2), object(3)\n",
      "memory usage: 27.5+ KB\n",
      "None\n",
      "Index(['Order ID', 'Product', 'Quantity', 'Unit Price', 'Category',\n",
      "       'Sale Date', 'Total Sales'],\n",
      "      dtype='object')\n"
     ]
    }
   ],
   "source": [
    "# Leer el archivo\n",
    " \n",
    "df = pd.read_csv(ruta_archivo)\n",
    "\n",
    "# Exportar Datos del archivo\n",
    "\n",
    "print(df.head())\n",
    "print(df.describe())\n",
    "print(df.info())\n",
    "print(df.columns)\n",
    "\n",
    "\n"
   ]
  },
  {
   "cell_type": "code",
   "execution_count": 6,
   "metadata": {},
   "outputs": [
    {
     "name": "stdout",
     "output_type": "stream",
     "text": [
      "No se encontraron duplicados.\n"
     ]
    }
   ],
   "source": [
    "# Detectamos los archivos archvos duplicados\n",
    "\n",
    "if df.duplicated().any():\n",
    "    print(\"Duplicados detectados\")\n",
    "\n",
    "# Mostrar las filas duplicadas\n",
    "    num_duplicados = df.duplicated().sum()\n",
    "    print(f\"Numero de filas duplicadas:\" \"{num_duplicados}\")\n",
    "\n",
    "    df = df.drop_duplicates()\n",
    "    print(\"duplicados eliminados\")\n",
    "else:\n",
    "    print(\"No se encontraron duplicados.\")\n",
    "\n",
    "    "
   ]
  },
  {
   "cell_type": "code",
   "execution_count": 7,
   "metadata": {},
   "outputs": [
    {
     "name": "stdout",
     "output_type": "stream",
     "text": [
      "No se encotraron valores nulos\n"
     ]
    }
   ],
   "source": [
    "# Detectamos los valores nulos\n",
    "if df.isnull().any().any():\n",
    "    print(\"Valores nulos detectado\")\n",
    "\n",
    "    # Mostras los valores nulos por columna\n",
    "    nulos_por_columna = df.isnull().sum()\n",
    "    print(\"Numero de valores nulos por columna\")\n",
    "    print(nulos_por_columna[nulos_por_columna] > 0) #Muestra solo los valores nulos por columna\n",
    "\n",
    "else:\n",
    "    print(\"No se encotraron valores nulos\")\n",
    "\n"
   ]
  },
  {
   "cell_type": "code",
   "execution_count": 9,
   "metadata": {},
   "outputs": [
    {
     "name": "stdout",
     "output_type": "stream",
     "text": [
      "No se encontraron valores incorrectos.\n"
     ]
    }
   ],
   "source": [
    "# Verificar si hay valores incorrectos en \"caltidad\", y \"precio unitario\"\n",
    "\n",
    "incorrectos_catidad = df[df[\"Quantity\"] < 0]\n",
    "incorrectos_precios = df[df[\"Unit Price\"] < 0]\n",
    "\n",
    "if not incorrectos_catidad.empty and not incorrectos_precios.empty:\n",
    "    print(\"Valores incorrectos detectados en 'Quantity' y 'Unit Price':\")\n",
    "    print(\"Cantidad incorrecta:\")\n",
    "    print(incorrectos_catidad)\n",
    "    print(\"Precio unitario incorrecto\")\n",
    "    print(incorrectos_precios)\n",
    "\n",
    "elif not incorrectos_catidad.empty:\n",
    "    print(\"Valores incorrectos detectados en 'Quantity':\")\n",
    "    print(incorrectos_catidad)\n",
    "\n",
    "elif not incorrectos_precios.empty:\n",
    "    print(\"Valores incorrectos detectados en 'Unit Price'\")\n",
    "    print(incorrectos_precios)\n",
    "\n",
    "else:\n",
    "    print(\"No se encontraron valores incorrectos.\")\n"
   ]
  },
  {
   "cell_type": "code",
   "execution_count": 10,
   "metadata": {},
   "outputs": [],
   "source": [
    "# Columna de \"total de ventas\"\n",
    "\n",
    "df[\"Total Sales\"] = np.multiply(df['Quantity'], df['Unit Price']) \n"
   ]
  },
  {
   "cell_type": "code",
   "execution_count": 11,
   "metadata": {},
   "outputs": [
    {
     "name": "stdout",
     "output_type": "stream",
     "text": [
      "Product\n",
      "Laptop        207\n",
      "Monitor       199\n",
      "Ratón         171\n",
      "Audífonos     169\n",
      "Tablet        167\n",
      "Smartphone    152\n",
      "Teclado       133\n",
      "Name: Quantity, dtype: int64\n"
     ]
    }
   ],
   "source": [
    "# Productos mas vendidos \n",
    "Productos_vendidos = df.groupby('Product')['Quantity'].sum()\n",
    "Productos_vendidos = Productos_vendidos.sort_values(ascending=False)\n",
    "print(Productos_vendidos)\n"
   ]
  },
  {
   "cell_type": "code",
   "execution_count": 12,
   "metadata": {},
   "outputs": [
    {
     "name": "stdout",
     "output_type": "stream",
     "text": [
      "Month\n",
      "1    142907.33\n",
      "2    102390.68\n",
      "3    123387.36\n",
      "4    124764.04\n",
      "5    106778.72\n",
      "6    134380.76\n",
      "7    139185.68\n",
      "8     96132.08\n",
      "Name: Total Sales, dtype: float64\n"
     ]
    }
   ],
   "source": [
    "# Ingresos totales por Mes \n",
    "\n",
    "df['Sale Date'] = pd.to_datetime(df['Sale Date']) # Convertir 'Sale Date' a tipo datetime para extraer el mes\n",
    "\n",
    "df['Month'] = df['Sale Date'].dt.month  # Crear una columna adicional 'Month' que contenga el mes de la venta\n",
    "\n",
    "Ingresos_por_mes = df.groupby('Month')['Total Sales'].sum() # Agrupar por 'Month' y sumar la columna 'Total Sales'\n",
    "\n",
    "print(Ingresos_por_mes)\n",
    "\n"
   ]
  },
  {
   "cell_type": "code",
   "execution_count": 13,
   "metadata": {},
   "outputs": [
    {
     "name": "stdout",
     "output_type": "stream",
     "text": [
      "Category\n",
      "Accesorios     560540.65\n",
      "Electrónica    409386.00\n",
      "Name: Total Sales, dtype: float64\n"
     ]
    }
   ],
   "source": [
    "# Venta por categoria\n",
    "\n",
    "# Agrupar por 'Category' y sumar la columna 'Total Sales'\n",
    "\n",
    "Ingresos_por_categoria = df.groupby('Category')['Total Sales'].sum()\n",
    "\n",
    "# Mostrar los ingresos totales por categoría\n",
    "\n",
    "print(Ingresos_por_categoria)"
   ]
  },
  {
   "cell_type": "code",
   "execution_count": 14,
   "metadata": {},
   "outputs": [
    {
     "name": "stdout",
     "output_type": "stream",
     "text": [
      "El día con más ventas es: Tuesday con un total de ventas de 144655.39\n",
      "El día con más ventas es: January con un total de ventas de 142907.33\n"
     ]
    }
   ],
   "source": [
    "#Mes y Dia con mas ventas\n",
    "\n",
    "df['Sale Date']= pd.to_datetime(df['Sale Date'])\n",
    "\n",
    "df['Day of the week'] = df['Sale Date'].dt.day_name()\n",
    "df['Month'] = df['Sale Date'].dt.month_name()\n",
    "\n",
    "# Calcular el total de ventas por dia\n",
    "\n",
    "Ventas_por_dia = df.groupby('Day of the week')['Total Sales'].sum().reset_index()\n",
    "dia_con_mas_ventas = Ventas_por_dia.sort_values(by='Total Sales', ascending=False).iloc[0]\n",
    "print(f\"El día con más ventas es: {dia_con_mas_ventas['Day of the week']} con un total de ventas de {dia_con_mas_ventas['Total Sales']}\")\n",
    "\n",
    "# Calcular el total de ventas por mes\n",
    "\n",
    "Ventas_por_mes = df.groupby('Month')['Total Sales'].sum().reset_index()\n",
    "mes_con_mas_ventas = Ventas_por_mes.sort_values(by='Total Sales', ascending=False).iloc[0]\n",
    "print(f\"El día con más ventas es: {mes_con_mas_ventas['Month']} con un total de ventas de {mes_con_mas_ventas['Total Sales']}\")"
   ]
  },
  {
   "cell_type": "code",
   "execution_count": 15,
   "metadata": {},
   "outputs": [
    {
     "name": "stdout",
     "output_type": "stream",
     "text": [
      "El promedio de ventas diarias es de: 3975.1092213114757\n"
     ]
    }
   ],
   "source": [
    "# Promedio de ventas diarias\n",
    "\n",
    "df['Sale Date'] = pd.to_datetime(df['Sale Date'])\n",
    "\n",
    "Ventas_por_dia = df.groupby('Sale Date')['Total Sales'].sum().reset_index()\n",
    "promedio_de_ventas_diarias = Ventas_por_dia['Total Sales'].mean()\n",
    "print(f\"El promedio de ventas diarias es de: {promedio_de_ventas_diarias}\")"
   ]
  },
  {
   "cell_type": "code",
   "execution_count": 16,
   "metadata": {},
   "outputs": [
    {
     "name": "stdout",
     "output_type": "stream",
     "text": [
      "   Order ID    Product  Quantity  Unit Price     Category  Sale Date  \\\n",
      "0      1000  Audífonos         3     1323.42   Accesorios 2024-01-01   \n",
      "1      1001    Monitor         2     1147.65   Accesorios 2024-01-01   \n",
      "2      1002    Teclado         3      118.00   Accesorios 2024-01-01   \n",
      "3      1003  Audífonos         4      439.58   Accesorios 2024-01-02   \n",
      "4      1004     Tablet         1       82.17  Electrónica 2024-01-02   \n",
      "\n",
      "   Total Sales    Month Day of the week  \n",
      "0      3970.26  January          Monday  \n",
      "1      2295.30  January          Monday  \n",
      "2       354.00  January          Monday  \n",
      "3      1758.32  January         Tuesday  \n",
      "4        82.17  January         Tuesday  \n",
      "          Order ID   Quantity   Unit Price                      Sale Date  \\\n",
      "count   500.000000  500.00000   500.000000                            500   \n",
      "mean   1249.500000    2.39600   804.706700  2024-05-01 00:02:52.800000256   \n",
      "min    1000.000000    1.00000    53.390000            2024-01-01 00:00:00   \n",
      "25%    1124.750000    1.00000   505.537500            2024-03-01 00:00:00   \n",
      "50%    1249.500000    2.00000   827.070000            2024-05-01 00:00:00   \n",
      "75%    1374.250000    3.00000  1138.917500            2024-07-01 00:00:00   \n",
      "max    1499.000000    4.00000  1499.060000            2024-08-31 00:00:00   \n",
      "std     144.481833    1.16529   400.683043                            NaN   \n",
      "\n",
      "       Total Sales  \n",
      "count   500.000000  \n",
      "mean   1939.853300  \n",
      "min      82.170000  \n",
      "25%     784.705000  \n",
      "50%    1479.090000  \n",
      "75%    2889.930000  \n",
      "max    5984.080000  \n",
      "std    1439.788409  \n",
      "Index(['Order ID', 'Product', 'Quantity', 'Unit Price', 'Category',\n",
      "       'Sale Date', 'Total Sales', 'Month', 'Day of the week'],\n",
      "      dtype='object')\n"
     ]
    }
   ],
   "source": [
    "print(df.head())\n",
    "print(df.describe())\n",
    "print(df.columns)"
   ]
  }
 ],
 "metadata": {
  "kernelspec": {
   "display_name": "Python 3",
   "language": "python",
   "name": "python3"
  },
  "language_info": {
   "codemirror_mode": {
    "name": "ipython",
    "version": 3
   },
   "file_extension": ".py",
   "mimetype": "text/x-python",
   "name": "python",
   "nbconvert_exporter": "python",
   "pygments_lexer": "ipython3",
   "version": "3.12.2"
  }
 },
 "nbformat": 4,
 "nbformat_minor": 2
}
